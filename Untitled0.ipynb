{
 "metadata": {
  "name": "",
  "signature": "sha256:d1557c73feb698e93d065862d6625d3fa04f08b039bbd5773d1f735389f38e02"
 },
 "nbformat": 3,
 "nbformat_minor": 0,
 "worksheets": [
  {
   "cells": [
    {
     "cell_type": "code",
     "collapsed": false,
     "input": [
      "from glob import glob\n",
      "import os\n",
      "import re\n",
      "from bs4 import BeautifulSoup"
     ],
     "language": "python",
     "metadata": {},
     "outputs": [],
     "prompt_number": 1
    },
    {
     "cell_type": "code",
     "collapsed": false,
     "input": [
      "dlHTMLPath = r'/Users/tyang/projects/drg/jglobaldownload/downloadedHTML/*.*'\n",
      "# dlHTMLPath = r'\\Users\\tyang\\projects\\drg\\jglobaldownload\\downloadedHTML\\*.*'\n",
      "names = [os.path.basename(x) for x in glob(dlHTMLPath)]\n",
      "files = glob(dlHTMLPath)"
     ],
     "language": "python",
     "metadata": {},
     "outputs": [],
     "prompt_number": 20
    },
    {
     "cell_type": "code",
     "collapsed": false,
     "input": [
      "# JGLOBALIDS \n",
      "ID_PATTERN = re.compile(r'(\\d+)_?')\n",
      "unique_set = []\n",
      "for line in names:\n",
      "    \n",
      "    jglobalid = ID_PATTERN.match(line).group(1)\n",
      "    if jglobalid not in unique_set:\n",
      "        unique_set.append(jglobalid)"
     ],
     "language": "python",
     "metadata": {},
     "outputs": [],
     "prompt_number": 23
    },
    {
     "cell_type": "code",
     "collapsed": false,
     "input": [
      "for line in unique_set:\n",
      "    print line"
     ],
     "language": "python",
     "metadata": {},
     "outputs": [
      {
       "output_type": "stream",
       "stream": "stdout",
       "text": [
        "200901027338990336\n",
        "200901064753496323\n",
        "200901069127676630\n",
        "200901079241931254\n"
       ]
      }
     ],
     "prompt_number": 27
    },
    {
     "cell_type": "code",
     "collapsed": false,
     "input": [
      "string = \"200901043250434650200901015762571388200901023665558639200901005356434684200901069689561339200901052806574471200901082745217715200901022054391120200901099506588833200901096179200380201101013774342185200901069326215196200901043178454365\"\n",
      "oneID = \"200901027338990336 \"\n",
      "n = 18\n",
      "idList = [string[i:i+n] for i in range(0, len(string), n)]"
     ],
     "language": "python",
     "metadata": {},
     "outputs": [],
     "prompt_number": 38
    },
    {
     "cell_type": "code",
     "collapsed": false,
     "input": [
      "for line in idList:\n",
      "    print line."
     ],
     "language": "python",
     "metadata": {},
     "outputs": [
      {
       "ename": "NameError",
       "evalue": "name 'idList' is not defined",
       "output_type": "pyerr",
       "traceback": [
        "\u001b[1;31m---------------------------------------------------------------------------\u001b[0m\n\u001b[1;31mNameError\u001b[0m                                 Traceback (most recent call last)",
        "\u001b[1;32m<ipython-input-22-7fe84df96d7b>\u001b[0m in \u001b[0;36m<module>\u001b[1;34m()\u001b[0m\n\u001b[1;32m----> 1\u001b[1;33m \u001b[1;32mfor\u001b[0m \u001b[0mline\u001b[0m \u001b[1;32min\u001b[0m \u001b[0midList\u001b[0m\u001b[1;33m:\u001b[0m\u001b[1;33m\u001b[0m\u001b[0m\n\u001b[0m\u001b[0;32m      2\u001b[0m     \u001b[1;32mprint\u001b[0m \u001b[0mline\u001b[0m\u001b[1;33m.\u001b[0m\u001b[0msplit\u001b[0m\u001b[1;33m(\u001b[0m\u001b[1;34m'='\u001b[0m\u001b[1;33m)\u001b[0m\u001b[1;33m[\u001b[0m\u001b[1;36m1\u001b[0m\u001b[1;33m]\u001b[0m\u001b[1;33m[\u001b[0m\u001b[1;36m0\u001b[0m\u001b[1;33m:\u001b[0m\u001b[1;33m-\u001b[0m\u001b[1;36m2\u001b[0m\u001b[1;33m]\u001b[0m\u001b[1;33m\u001b[0m\u001b[0m\n",
        "\u001b[1;31mNameError\u001b[0m: name 'idList' is not defined"
       ]
      }
     ],
     "prompt_number": 22
    },
    {
     "cell_type": "code",
     "collapsed": false,
     "input": [
      "links = []\n",
      "with open('profileLinksCollection.txt','rb') as f:\n",
      "    for line in f.readlines():\n",
      "        links.append(line.split('=')[1][0:-2])"
     ],
     "language": "python",
     "metadata": {},
     "outputs": [],
     "prompt_number": 41
    },
    {
     "cell_type": "code",
     "collapsed": false,
     "input": [
      "len(links)"
     ],
     "language": "python",
     "metadata": {},
     "outputs": [
      {
       "metadata": {},
       "output_type": "pyout",
       "prompt_number": 42,
       "text": [
        "6594"
       ]
      }
     ],
     "prompt_number": 42
    },
    {
     "cell_type": "code",
     "collapsed": false,
     "input": [
      "# a = []\n",
      "# with open('downloaded2.txt','rb') as f:\n",
      "#     for line in f.readlines():\n",
      "#         if line.replace('\\r\\n','') not in a:\n",
      "#             a.append(line.replace('\\r\\n',''))\n",
      "cleanedLinks = []\n",
      "for line in links:\n",
      "    if line in a:\n",
      "        continue\n",
      "    else:\n",
      "        cleanedLinks.append('http://jglobal.jst.go.jp/detail.php?JGLOBAL_ID=%s&q=%%E4%%BA%%AC%%E9%%83%%BD%%E5%%A4%%A7%%E5%%AD%%A6&t=1' % line)"
     ],
     "language": "python",
     "metadata": {},
     "outputs": [],
     "prompt_number": 45
    },
    {
     "cell_type": "code",
     "collapsed": false,
     "input": [
      "with open ('profileLinksCollection2.txt','wb') as f:\n",
      "    for line in cleanedLinks:\n",
      "        f.write(line+'\\n')"
     ],
     "language": "python",
     "metadata": {},
     "outputs": [],
     "prompt_number": 50
    },
    {
     "cell_type": "code",
     "collapsed": false,
     "input": [
      "len(links)"
     ],
     "language": "python",
     "metadata": {},
     "outputs": [
      {
       "metadata": {},
       "output_type": "pyout",
       "prompt_number": 36,
       "text": [
        "517"
       ]
      }
     ],
     "prompt_number": 36
    },
    {
     "cell_type": "code",
     "collapsed": false,
     "input": [
      "for file in files:\n",
      "    with open(file,'rb') as f:\n",
      "        soup = BeautifulSoup(f.read())\n",
      "        print len(soup.findAll())\n",
      "        if len(soup.findAll())<3"
     ],
     "language": "python",
     "metadata": {},
     "outputs": [
      {
       "ename": "SyntaxError",
       "evalue": "invalid syntax (<ipython-input-2-a37f52c5f609>, line 5)",
       "output_type": "pyerr",
       "traceback": [
        "\u001b[0;36m  File \u001b[0;32m\"<ipython-input-2-a37f52c5f609>\"\u001b[0;36m, line \u001b[0;32m5\u001b[0m\n\u001b[0;31m    if len(soup.findAll())<3\u001b[0m\n\u001b[0m                            ^\u001b[0m\n\u001b[0;31mSyntaxError\u001b[0m\u001b[0;31m:\u001b[0m invalid syntax\n"
       ]
      }
     ],
     "prompt_number": 2
    }
   ],
   "metadata": {}
  }
 ]
}