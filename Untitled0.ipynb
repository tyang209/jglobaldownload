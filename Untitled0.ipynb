{
 "metadata": {
  "name": "",
  "signature": "sha256:1b19bf8963b4ff782126bb9e3b9b0ef720a5231e9746c6ee7c402ca0301172aa"
 },
 "nbformat": 3,
 "nbformat_minor": 0,
 "worksheets": [
  {
   "cells": [
    {
     "cell_type": "code",
     "collapsed": false,
     "input": [
      "from glob import glob\n",
      "import os\n",
      "import re\n",
      "from bs4 import BeautifulSoup"
     ],
     "language": "python",
     "metadata": {},
     "outputs": [],
     "prompt_number": 1
    },
    {
     "cell_type": "code",
     "collapsed": false,
     "input": [
      "dlHTMLPath = r'/Users/tyang/projects/drg/jglobaldownload/downloadedHTML/*.*'\n",
      "# dlHTMLPath = r'\\Users\\tyang\\projects\\drg\\jglobaldownload\\downloadedHTML\\*.*'\n",
      "names = [os.path.basename(x) for x in glob(dlHTMLPath)]\n",
      "files = glob(dlHTMLPath)"
     ],
     "language": "python",
     "metadata": {},
     "outputs": [],
     "prompt_number": 20
    },
    {
     "cell_type": "code",
     "collapsed": false,
     "input": [
      "# JGLOBALIDS \n",
      "ID_PATTERN = re.compile(r'(\\d+)_?')\n",
      "unique_set = []\n",
      "for line in names:\n",
      "    \n",
      "    jglobalid = ID_PATTERN.match(line).group(1)\n",
      "    if jglobalid not in unique_set:\n",
      "        unique_set.append(jglobalid)"
     ],
     "language": "python",
     "metadata": {},
     "outputs": [],
     "prompt_number": 23
    },
    {
     "cell_type": "code",
     "collapsed": false,
     "input": [
      "for line in unique_set:\n",
      "    print line"
     ],
     "language": "python",
     "metadata": {},
     "outputs": [
      {
       "output_type": "stream",
       "stream": "stdout",
       "text": [
        "200901027338990336\n",
        "200901064753496323\n",
        "200901069127676630\n",
        "200901079241931254\n"
       ]
      }
     ],
     "prompt_number": 27
    },
    {
     "cell_type": "code",
     "collapsed": false,
     "input": [
      "string = \"201101045851865411200901044975839503201301063830401280200901036868855960200901063030071646201301031402724289201201031940878973201301049305433454200901086597791038\"\n",
      "oneID = \"200901027338990336 \"\n",
      "n = 18\n",
      "idList = [line[i:i+n] for i in range(0, len(string), n)]"
     ],
     "language": "python",
     "metadata": {},
     "outputs": [],
     "prompt_number": 10
    },
    {
     "cell_type": "code",
     "collapsed": false,
     "input": [
      "for line in idList:\n",
      "    print line"
     ],
     "language": "python",
     "metadata": {},
     "outputs": [
      {
       "output_type": "stream",
       "stream": "stdout",
       "text": [
        "201101045851865411\n",
        "200901044975839503\n",
        "201301063830401280\n",
        "200901036868855960\n",
        "200901063030071646\n",
        "201301031402724289\n",
        "201201031940878973\n",
        "201301049305433454\n",
        "200901086597791038\n"
       ]
      }
     ],
     "prompt_number": 11
    },
    {
     "cell_type": "code",
     "collapsed": false,
     "input": [
      "with open('downloadProfileJGLOBALIDs.txt','rb') as f:\n",
      "    for line in f.readlines():\n",
      "        print line\n"
     ],
     "language": "python",
     "metadata": {},
     "outputs": [
      {
       "output_type": "stream",
       "stream": "stdout",
       "text": [
        "200901027338990336\n",
        "\n",
        "200901064753496323\n",
        "\n",
        "200901069127676630\n",
        "\n",
        "200901079241931254\n",
        "\n",
        "201101045851865411200901044975839503201301063830401280200901036868855960200901063030071646201301031402724289201201031940878973201301049305433454200901086597791038\n"
       ]
      }
     ],
     "prompt_number": 3
    },
    {
     "cell_type": "code",
     "collapsed": false,
     "input": [
      "for file in files:\n",
      "    with open(file,'rb') as f:\n",
      "        soup = BeautifulSoup(f.read())\n",
      "        print len(soup.findAll())\n",
      "        if len(soup.findAll())<3"
     ],
     "language": "python",
     "metadata": {},
     "outputs": [
      {
       "ename": "SyntaxError",
       "evalue": "invalid syntax (<ipython-input-2-a37f52c5f609>, line 5)",
       "output_type": "pyerr",
       "traceback": [
        "\u001b[0;36m  File \u001b[0;32m\"<ipython-input-2-a37f52c5f609>\"\u001b[0;36m, line \u001b[0;32m5\u001b[0m\n\u001b[0;31m    if len(soup.findAll())<3\u001b[0m\n\u001b[0m                            ^\u001b[0m\n\u001b[0;31mSyntaxError\u001b[0m\u001b[0;31m:\u001b[0m invalid syntax\n"
       ]
      }
     ],
     "prompt_number": 2
    }
   ],
   "metadata": {}
  }
 ]
}