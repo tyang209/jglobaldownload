{
 "metadata": {
  "name": ""
 },
 "nbformat": 3,
 "nbformat_minor": 0,
 "worksheets": [
  {
   "cells": [
    {
     "cell_type": "code",
     "collapsed": false,
     "input": [
      "from glob import glob\n",
      "import os\n",
      "import re\n",
      "from bs4 import BeautifulSoup"
     ],
     "language": "python",
     "metadata": {},
     "outputs": [],
     "prompt_number": 1
    },
    {
     "cell_type": "code",
     "collapsed": false,
     "input": [
      "dlHTMLPath = r'C:\\Users\\tyang\\Desktop\\bayer_japan\\jglobalDownload\\downloadedHTML\\*.*'\n",
      "names = [os.path.basename(x) for x in glob(dlHTMLPath)]\n",
      "files = glob(dlHTMLPath)"
     ],
     "language": "python",
     "metadata": {},
     "outputs": [],
     "prompt_number": 3
    },
    {
     "cell_type": "code",
     "collapsed": false,
     "input": [
      "# JGLOBALIDS \n",
      "ID_PATTERN = re.compile(r'(\\d+)_?')\n",
      "unique_set = []\n",
      "for line in names:\n",
      "    \n",
      "    jglobalid = ID_PATTERN.match(line).group(1)\n",
      "    if jglobalid not in unique_set:\n",
      "        unique_set.append(jglobalid)"
     ],
     "language": "python",
     "metadata": {},
     "outputs": [],
     "prompt_number": 16
    },
    {
     "cell_type": "code",
     "collapsed": false,
     "input": [
      "unique_set"
     ],
     "language": "python",
     "metadata": {},
     "outputs": [
      {
       "metadata": {},
       "output_type": "pyout",
       "prompt_number": 17,
       "text": [
        "['200901027338990336',\n",
        " '200901064753496323',\n",
        " '200901069127676630',\n",
        " '200901079241931254']"
       ]
      }
     ],
     "prompt_number": 17
    },
    {
     "cell_type": "code",
     "collapsed": false,
     "input": [
      "for file in files:\n",
      "    with open(file,'rb') as f:\n",
      "        soup = BeautifulSoup(f.read())\n",
      "        print len(soup.findAll())\n",
      "        if len(soup.findAll())<3"
     ],
     "language": "python",
     "metadata": {},
     "outputs": [
      {
       "ename": "SyntaxError",
       "evalue": "invalid syntax (<ipython-input-5-a37f52c5f609>, line 5)",
       "output_type": "pyerr",
       "traceback": [
        "\u001b[1;36m  File \u001b[1;32m\"<ipython-input-5-a37f52c5f609>\"\u001b[1;36m, line \u001b[1;32m5\u001b[0m\n\u001b[1;33m    if len(soup.findAll())<3\u001b[0m\n\u001b[1;37m                            ^\u001b[0m\n\u001b[1;31mSyntaxError\u001b[0m\u001b[1;31m:\u001b[0m invalid syntax\n"
       ]
      }
     ],
     "prompt_number": 5
    }
   ],
   "metadata": {}
  }
 ]
}